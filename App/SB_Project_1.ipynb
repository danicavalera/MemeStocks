{
 "cells": [
  {
   "cell_type": "code",
   "execution_count": 80,
   "id": "2a435e97-ef05-4d89-8eb0-3750cd63c432",
   "metadata": {},
   "outputs": [
    {
     "data": {
      "text/plain": [
       "True"
      ]
     },
     "execution_count": 80,
     "metadata": {},
     "output_type": "execute_result"
    }
   ],
   "source": [
    "# Import the required libraries and dependencies\n",
    "import os\n",
    "import requests\n",
    "import json\n",
    "import pandas as pd\n",
    "from dotenv import load_dotenv\n",
    "import alpaca_trade_api as tradeapi\n",
    "from MCForecastTools import MCSimulation\n",
    "from alpaca_trade_api import TimeFrame\n",
    "import fire\n",
    "import questionary\n",
    "\n",
    "%matplotlib inline\n",
    "\n",
    "load_dotenv()"
   ]
  },
  {
   "cell_type": "code",
   "execution_count": 81,
   "id": "9b4c418a-183c-454f-8d89-ecb1f0df0c7d",
   "metadata": {},
   "outputs": [],
   "source": [
    "# def get_analysis_tool(M, S):\n",
    "#     input_tool = input(\"Which Analysis tool do you want to use? [1] Monte Carlo, [2] Sharpe Ratio\")\n",
    "#     if input_tool == M:\n",
    "#         pass\n",
    "#     elif input_tool == S:\n",
    "#         pass"
   ]
  },
  {
   "cell_type": "code",
   "execution_count": 82,
   "id": "c8db0530-fabb-485f-95bc-c95bae18bbb5",
   "metadata": {},
   "outputs": [
    {
     "ename": "SyntaxError",
     "evalue": "invalid syntax (3349428153.py, line 2)",
     "output_type": "error",
     "traceback": [
      "\u001b[1;36m  Input \u001b[1;32mIn [82]\u001b[1;36m\u001b[0m\n\u001b[1;33m    While:\u001b[0m\n\u001b[1;37m          ^\u001b[0m\n\u001b[1;31mSyntaxError\u001b[0m\u001b[1;31m:\u001b[0m invalid syntax\n"
     ]
    }
   ],
   "source": [
    "def input_tickers():\n",
    "    While:\n",
    "        \n",
    "    ticker = input(\"Which stock do you want to use ?\")\n",
    "    ticker = str(ticker)\n",
    "    \n",
    "    return ticker\n",
    "\n",
    "credit_score = str(ticker)"
   ]
  },
  {
   "cell_type": "code",
   "execution_count": 83,
   "id": "d2e230c0-5d88-473a-bb23-516c3abc40bd",
   "metadata": {},
   "outputs": [
    {
     "name": "stdin",
     "output_type": "stream",
     "text": [
      "Which stock do you want to use ? SPY\n"
     ]
    }
   ],
   "source": [
    "def run():\n",
    "    ticker = input_tickers()\n",
    "    return ticker\n",
    "ticker = run()\n",
    "\n"
   ]
  },
  {
   "cell_type": "code",
   "execution_count": 84,
   "id": "19622308-0251-496d-b32b-b17bd7bd0dea",
   "metadata": {},
   "outputs": [
    {
     "name": "stdout",
     "output_type": "stream",
     "text": [
      "\n",
      "What would you like to do?\n",
      "\n",
      "[1] Enter 1 to take a bicycle ride.\n",
      "[2] Enter 2 to go for a run.\n",
      "[3] Enter 3 to climb a mountain.\n",
      "[q] Enter q to quit.\n"
     ]
    },
    {
     "name": "stdin",
     "output_type": "stream",
     "text": [
      "\n",
      "What would you like to do?  q\n"
     ]
    },
    {
     "name": "stdout",
     "output_type": "stream",
     "text": [
      "\n",
      "Thanks for playing. See you later.\n",
      "\n",
      "Thanks again, bye now.\n"
     ]
    }
   ],
   "source": [
    "# print(\"\\nWhat would you like to do?\")\n",
    "\n",
    "# # Set an initial value for choice other than the value for 'quit'.\n",
    "# choice = ''\n",
    "\n",
    "# # Start a loop that runs until the user enters the value for 'quit'.\n",
    "# while choice != 'q':\n",
    "#     # Give all the choices in a series of print statements.\n",
    "#     print(\"\\n[1] Enter 1 to take a bicycle ride.\")\n",
    "#     print(\"[2] Enter 2 to go for a run.\")\n",
    "#     print(\"[3] Enter 3 to climb a mountain.\")\n",
    "#     print(\"[q] Enter q to quit.\")\n",
    "    \n",
    "#     # Ask for the user's choice.\n",
    "#     choice = input(\"\\nWhat would you like to do? \")\n",
    "    \n",
    "#     # Respond to the user's choice.\n",
    "#     if choice == '1':\n",
    "#         print(\"\\nHere's a bicycle. Have fun!\\n\")\n",
    "#     elif choice == '2':\n",
    "#         print(\"\\nHere are some running shoes. Run fast!\\n\")\n",
    "#     elif choice == '3':\n",
    "#         print(\"\\nHere's a map. Can you leave a trip plan for us?\\n\")\n",
    "#     elif choice == 'q':\n",
    "#         print(\"\\nThanks for playing. See you later.\\n\")\n",
    "#     else:\n",
    "#         print(\"\\nI don't understand that choice, please try again.\\n\")\n",
    "        \n",
    "# # Print a message that we are all finished.\n",
    "# print(\"Thanks again, bye now.\")"
   ]
  },
  {
   "cell_type": "code",
   "execution_count": 85,
   "id": "74f92237-b80e-431e-b7c5-ce2f31b97a9a",
   "metadata": {},
   "outputs": [
    {
     "name": "stdout",
     "output_type": "stream",
     "text": [
      "SPY\n"
     ]
    }
   ],
   "source": [
    "print(ticker)"
   ]
  },
  {
   "cell_type": "code",
   "execution_count": 86,
   "id": "c6603469-cf28-4072-a80a-11b6ad8b8ab3",
   "metadata": {},
   "outputs": [
    {
     "data": {
      "text/plain": [
       "str"
      ]
     },
     "metadata": {},
     "output_type": "display_data"
    },
    {
     "data": {
      "text/plain": [
       "str"
      ]
     },
     "metadata": {},
     "output_type": "display_data"
    }
   ],
   "source": [
    "# Set the variables for the Alpaca API and secret keys\n",
    "alpaca_api_key = os.getenv('Alpaca_API_Key')\n",
    "alpaca_secret_key = os.getenv('Alpaca_Secret_Key')\n",
    "\n",
    "display(type(alpaca_api_key))\n",
    "display(type(alpaca_secret_key))\n",
    "\n",
    "# Create the Alpaca tradeapi.REST object\n",
    "alpaca = tradeapi.REST(\n",
    "    alpaca_api_key,\n",
    "    alpaca_secret_key,\n",
    "    api_version='V2')"
   ]
  },
  {
   "cell_type": "code",
   "execution_count": 87,
   "id": "1d703ab6-afae-4f7e-a0ea-b7dc5b23b362",
   "metadata": {},
   "outputs": [],
   "source": [
    "# Set the tickers for both the bond and stock portion of the portfolio\n",
    "portfolio_tickers = ticker\n",
    "#comparison_tickers = ['SPY','AGG']\n",
    "\n",
    "# Set timeframe to 1D \n",
    "timeframe = TimeFrame.Day\n",
    "\n",
    "# number_of_trading_days = 252\n",
    "# number_of_tickers = len(portfolio_tickers)\n",
    "# limit = number_of_trading_days*number_of_tickers\n",
    "\n",
    "limit_rows = 5000\n",
    "\n",
    "# Format current date as ISO format\n",
    "# Set both the start and end date at the date of your prior weekday \n",
    "# This will give you the closing price of the previous trading day\n",
    "# Alternatively you can use a start and end date of 2020-08-07\n",
    "start_date = pd.Timestamp('2018-03-18', tz='America/New_York').isoformat()\n",
    "end_date = pd.Timestamp('2022-03-18', tz='America/New_York').isoformat()\n",
    "# limit"
   ]
  },
  {
   "cell_type": "code",
   "execution_count": 88,
   "id": "9fd3db28-a88f-4d3f-95a6-5e805b505d65",
   "metadata": {},
   "outputs": [
    {
     "data": {
      "text/html": [
       "<div>\n",
       "<style scoped>\n",
       "    .dataframe tbody tr th:only-of-type {\n",
       "        vertical-align: middle;\n",
       "    }\n",
       "\n",
       "    .dataframe tbody tr th {\n",
       "        vertical-align: top;\n",
       "    }\n",
       "\n",
       "    .dataframe thead th {\n",
       "        text-align: right;\n",
       "    }\n",
       "</style>\n",
       "<table border=\"1\" class=\"dataframe\">\n",
       "  <thead>\n",
       "    <tr style=\"text-align: right;\">\n",
       "      <th></th>\n",
       "      <th>open</th>\n",
       "      <th>high</th>\n",
       "      <th>low</th>\n",
       "      <th>close</th>\n",
       "      <th>volume</th>\n",
       "      <th>trade_count</th>\n",
       "      <th>vwap</th>\n",
       "    </tr>\n",
       "    <tr>\n",
       "      <th>timestamp</th>\n",
       "      <th></th>\n",
       "      <th></th>\n",
       "      <th></th>\n",
       "      <th></th>\n",
       "      <th></th>\n",
       "      <th></th>\n",
       "      <th></th>\n",
       "    </tr>\n",
       "  </thead>\n",
       "  <tbody>\n",
       "    <tr>\n",
       "      <th>2018-03-19 04:00:00+00:00</th>\n",
       "      <td>273.34</td>\n",
       "      <td>274.3957</td>\n",
       "      <td>268.62</td>\n",
       "      <td>270.49</td>\n",
       "      <td>109335542</td>\n",
       "      <td>432142</td>\n",
       "      <td>270.752850</td>\n",
       "    </tr>\n",
       "    <tr>\n",
       "      <th>2018-03-20 04:00:00+00:00</th>\n",
       "      <td>270.91</td>\n",
       "      <td>271.6700</td>\n",
       "      <td>270.18</td>\n",
       "      <td>270.95</td>\n",
       "      <td>60267376</td>\n",
       "      <td>209741</td>\n",
       "      <td>270.907252</td>\n",
       "    </tr>\n",
       "    <tr>\n",
       "      <th>2018-03-21 04:00:00+00:00</th>\n",
       "      <td>270.88</td>\n",
       "      <td>273.2700</td>\n",
       "      <td>270.19</td>\n",
       "      <td>270.43</td>\n",
       "      <td>78884438</td>\n",
       "      <td>330625</td>\n",
       "      <td>271.404380</td>\n",
       "    </tr>\n",
       "    <tr>\n",
       "      <th>2018-03-22 04:00:00+00:00</th>\n",
       "      <td>267.85</td>\n",
       "      <td>268.8700</td>\n",
       "      <td>263.36</td>\n",
       "      <td>263.67</td>\n",
       "      <td>149493729</td>\n",
       "      <td>577825</td>\n",
       "      <td>266.129101</td>\n",
       "    </tr>\n",
       "    <tr>\n",
       "      <th>2018-03-23 04:00:00+00:00</th>\n",
       "      <td>264.17</td>\n",
       "      <td>265.0200</td>\n",
       "      <td>257.83</td>\n",
       "      <td>258.05</td>\n",
       "      <td>183856351</td>\n",
       "      <td>624778</td>\n",
       "      <td>261.280967</td>\n",
       "    </tr>\n",
       "  </tbody>\n",
       "</table>\n",
       "</div>"
      ],
      "text/plain": [
       "                             open      high     low   close     volume  \\\n",
       "timestamp                                                                \n",
       "2018-03-19 04:00:00+00:00  273.34  274.3957  268.62  270.49  109335542   \n",
       "2018-03-20 04:00:00+00:00  270.91  271.6700  270.18  270.95   60267376   \n",
       "2018-03-21 04:00:00+00:00  270.88  273.2700  270.19  270.43   78884438   \n",
       "2018-03-22 04:00:00+00:00  267.85  268.8700  263.36  263.67  149493729   \n",
       "2018-03-23 04:00:00+00:00  264.17  265.0200  257.83  258.05  183856351   \n",
       "\n",
       "                           trade_count        vwap  \n",
       "timestamp                                           \n",
       "2018-03-19 04:00:00+00:00       432142  270.752850  \n",
       "2018-03-20 04:00:00+00:00       209741  270.907252  \n",
       "2018-03-21 04:00:00+00:00       330625  271.404380  \n",
       "2018-03-22 04:00:00+00:00       577825  266.129101  \n",
       "2018-03-23 04:00:00+00:00       624778  261.280967  "
      ]
     },
     "execution_count": 88,
     "metadata": {},
     "output_type": "execute_result"
    }
   ],
   "source": [
    "# Use the Alpaca get_barset function to get current closing prices the portfolio\n",
    "# Be sure to set the `df` property after the function to format the response object as a DataFrame\n",
    "prices_df = alpaca.get_bars(portfolio_tickers, timeframe ,start=start_date, end=end_date, limit=limit_rows).df\n",
    "\n",
    "# Review the first 5 rows of the Alpaca DataFrame\n",
    "prices_df.head()"
   ]
  },
  {
   "cell_type": "code",
   "execution_count": null,
   "id": "1bc2ee9b-447b-44d6-bfeb-923ea2279fac",
   "metadata": {},
   "outputs": [],
   "source": []
  }
 ],
 "metadata": {
  "kernelspec": {
   "display_name": "Python 3 (ipykernel)",
   "language": "python",
   "name": "python3"
  },
  "language_info": {
   "codemirror_mode": {
    "name": "ipython",
    "version": 3
   },
   "file_extension": ".py",
   "mimetype": "text/x-python",
   "name": "python",
   "nbconvert_exporter": "python",
   "pygments_lexer": "ipython3",
   "version": "3.9.7"
  }
 },
 "nbformat": 4,
 "nbformat_minor": 5
}

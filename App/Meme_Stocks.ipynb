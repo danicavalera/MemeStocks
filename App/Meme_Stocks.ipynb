{
 "cells": [
  {
   "cell_type": "code",
   "execution_count": null,
   "id": "89152d2b-48f0-42b6-9899-8547a7e75714",
   "metadata": {},
   "outputs": [],
   "source": [
    "#STANDARD DEVIATIONS - JUNG"
   ]
  },
  {
   "cell_type": "code",
   "execution_count": null,
   "id": "1f3e8d4f-7e62-4579-8572-deaf953e6e2b",
   "metadata": {},
   "outputs": [],
   "source": [
    "#CUMULATIVE RETURNS - DANICA"
   ]
  },
  {
   "cell_type": "code",
   "execution_count": null,
   "id": "1b891087-a4d3-4fbb-a097-030be2ecbd5e",
   "metadata": {},
   "outputs": [],
   "source": [
    "#BETA/VARIANCE - SUNG"
   ]
  },
  {
   "cell_type": "code",
   "execution_count": null,
   "id": "2c44b98f-c19e-40b7-830f-b3a11a18fdd4",
   "metadata": {},
   "outputs": [],
   "source": [
    "#SHARPE RATIO - JENNIFER"
   ]
  },
  {
   "cell_type": "code",
   "execution_count": null,
   "id": "8851cd1e-47a6-4415-82e2-e4f6b322f739",
   "metadata": {},
   "outputs": [],
   "source": [
    "#MONTE CARLO - RYAN"
   ]
  }
 ],
 "metadata": {
  "kernelspec": {
   "display_name": "Python 3 (ipykernel)",
   "language": "python",
   "name": "python3"
  },
  "language_info": {
   "codemirror_mode": {
    "name": "ipython",
    "version": 3
   },
   "file_extension": ".py",
   "mimetype": "text/x-python",
   "name": "python",
   "nbconvert_exporter": "python",
   "pygments_lexer": "ipython3",
   "version": "3.9.7"
  }
 },
 "nbformat": 4,
 "nbformat_minor": 5
}

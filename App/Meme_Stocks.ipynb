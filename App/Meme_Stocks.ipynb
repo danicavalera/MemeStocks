{
 "cells": [
  {
   "cell_type": "markdown",
   "id": "3541b7fd-cc93-4507-b3e7-ca8494943dff",
   "metadata": {},
   "source": [
    "## MEME STOCKS - Are they actually risky or are they worth investing?\n",
    "\n",
    "#### What is a meme stock?\n",
    "##### “A meme stock refers to the shares of a company that have gained a cult-like following online and through social media platforms. These online communities can go on to build hype around a stock through narratives and conversations elaborated in discussion threads on websites like Reddit and posts to followers on platforms like Twitter and Facebook.” Investopedia\n",
    "GME, AMC, TSLA, BBBY, HOOD, BB, PLTR, NOK, SPCE (List of stocks)\n",
    "\n",
    "#### Comparison securities\n",
    "SPY, AGG, top 4 (MSFT, AMZN, GOOG, AAPL)\n"
   ]
  },
  {
   "cell_type": "code",
   "execution_count": 1,
   "id": "576eb4fc-85df-4060-806f-e2e491e6169e",
   "metadata": {},
   "outputs": [],
   "source": [
    "import os\n",
    "import requests\n",
    "import json\n",
    "import pandas as pd\n",
    "from dotenv import load_dotenv\n",
    "import alpaca_trade_api as tradeapi\n",
    "from MCForecastTools import MCSimulation\n",
    "\n",
    "%matplotlib inline\n",
    "%matplotlib inline"
   ]
  },
  {
   "cell_type": "code",
   "execution_count": 2,
   "id": "5db9344a-02c3-4720-8c27-452ce7427236",
   "metadata": {},
   "outputs": [],
   "source": [
    "#READ THE CSV FILE"
   ]
  },
  {
   "cell_type": "markdown",
   "id": "66468c3b-e408-4622-b8f5-30851db164e2",
   "metadata": {},
   "source": [
    "## Quantitative Analysis\n",
    "\n",
    "The analysis has several components: performance, risk, risk-return profile, and portfolio diversification."
   ]
  },
  {
   "cell_type": "markdown",
   "id": "0cfc1657-560a-46cc-9b52-8fd5b3d08039",
   "metadata": {},
   "source": [
    "###  Analyze the Performance\n",
    "\n",
    "Analyze the data to determine if any of the portfolios outperform the broader stock market (S&P 500, AGG, TOP 4 STOCKS)"
   ]
  },
  {
   "cell_type": "code",
   "execution_count": 3,
   "id": "235f54b4-18c9-419c-b0f3-d678889eb022",
   "metadata": {},
   "outputs": [],
   "source": [
    "#DAILY RETURNS - DANICA\n",
    "#dailyreturns_df = df.pct_change().dropna()"
   ]
  },
  {
   "cell_type": "code",
   "execution_count": 4,
   "id": "1f3e8d4f-7e62-4579-8572-deaf953e6e2b",
   "metadata": {},
   "outputs": [],
   "source": [
    "#CUMULATIVE RETURNS - DANICA\n",
    "#cumulative_returns = (1+ dailyreturns_df).cumprod() - 1"
   ]
  },
  {
   "cell_type": "markdown",
   "id": "615709b1-0cbb-4feb-8344-edac18b826e5",
   "metadata": {},
   "source": [
    "### Analyze the Risk\n",
    "\n",
    "Evaluate the risk profile of each portfolio by using the standard deviation and the beta."
   ]
  },
  {
   "cell_type": "code",
   "execution_count": 5,
   "id": "1b891087-a4d3-4fbb-a097-030be2ecbd5e",
   "metadata": {},
   "outputs": [],
   "source": [
    "#BETA/VARIANCE - SUNG"
   ]
  },
  {
   "cell_type": "code",
   "execution_count": 6,
   "id": "fb1c8e27-96ac-489d-b3da-93e951b33a72",
   "metadata": {},
   "outputs": [],
   "source": [
    "#STANDARD DEVIATIONS - JUNG"
   ]
  },
  {
   "cell_type": "markdown",
   "id": "eee4e850-c3c2-4dd8-8ccc-d1a6747c0db5",
   "metadata": {},
   "source": [
    "### Analyze the Risk-Return Profile\n",
    "\n",
    "To determine the overall risk of an asset or portfolio, quantitative analysts and investment managers consider not only its risk metrics but also its risk-return profile. After all, if you have two portfolios that each offer a 10% return but one has less risk, you’d probably invest in the smaller-risk portfolio. For this reason, you need to consider the Sharpe ratios for each portfolio."
   ]
  },
  {
   "cell_type": "code",
   "execution_count": 7,
   "id": "2c44b98f-c19e-40b7-830f-b3a11a18fdd4",
   "metadata": {},
   "outputs": [],
   "source": [
    "#SHARPE RATIO - JENNIFER"
   ]
  },
  {
   "cell_type": "code",
   "execution_count": 8,
   "id": "8851cd1e-47a6-4415-82e2-e4f6b322f739",
   "metadata": {},
   "outputs": [],
   "source": [
    "#MONTE CARLO - RYAN"
   ]
  },
  {
   "cell_type": "markdown",
   "id": "029c9ea4-4fbb-400a-a3da-1d50f41198e3",
   "metadata": {},
   "source": [
    "### Diversify the Portfolio\n",
    "\n",
    "Based on our analysis so far, we have the answer to the question, \"Are the meme stocks worth investing in?\""
   ]
  },
  {
   "cell_type": "code",
   "execution_count": null,
   "id": "554c85a3-fc9e-45fc-a02b-9f4970c1c319",
   "metadata": {},
   "outputs": [],
   "source": []
  }
 ],
 "metadata": {
  "kernelspec": {
   "display_name": "Python 3 (ipykernel)",
   "language": "python",
   "name": "python3"
  },
  "language_info": {
   "codemirror_mode": {
    "name": "ipython",
    "version": 3
   },
   "file_extension": ".py",
   "mimetype": "text/x-python",
   "name": "python",
   "nbconvert_exporter": "python",
   "pygments_lexer": "ipython3",
   "version": "3.9.7"
  }
 },
 "nbformat": 4,
 "nbformat_minor": 5
}

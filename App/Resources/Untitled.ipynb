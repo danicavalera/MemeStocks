{
 "cells": [
  {
   "cell_type": "markdown",
   "id": "26439d17-a0a4-4b2d-b848-8a98ee4b33e3",
   "metadata": {},
   "source": [
    "### DATAFRAME TO CSV FILES"
   ]
  }
 ],
 "metadata": {
  "kernelspec": {
   "display_name": "Python 3 (ipykernel)",
   "language": "python",
   "name": "python3"
  },
  "language_info": {
   "codemirror_mode": {
    "name": "ipython",
    "version": 3
   },
   "file_extension": ".py",
   "mimetype": "text/x-python",
   "name": "python",
   "nbconvert_exporter": "python",
   "pygments_lexer": "ipython3",
   "version": "3.9.7"
  }
 },
 "nbformat": 4,
 "nbformat_minor": 5
}

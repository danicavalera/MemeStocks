{
 "cells": [
  {
   "cell_type": "code",
   "execution_count": 1,
   "id": "9a38e054-d538-4ea7-b63b-6f18835691c5",
   "metadata": {},
   "outputs": [],
   "source": [
    "#INFORMATION: This is the first half of the projct where there will be basic financial calculations based on user input via CLI modular app and queries\n"
   ]
  },
  {
   "cell_type": "code",
   "execution_count": 2,
   "id": "67336fed-11ee-4aa9-8b4c-8470a88b5d52",
   "metadata": {},
   "outputs": [],
   "source": [
    "#Packages to import\n",
    "\n",
    "from ast import IfExp\n",
    "import os\n",
    "import requests\n",
    "import json\n",
    "import sys\n",
    "import fire\n",
    "import questionary\n",
    "import alpaca_trade_api as tradeapi"
   ]
  },
  {
   "cell_type": "code",
   "execution_count": 3,
   "id": "d31044fb-20e8-4340-85bd-c0741b59df66",
   "metadata": {},
   "outputs": [
    {
     "data": {
      "text/plain": [
       "NoneType"
      ]
     },
     "metadata": {},
     "output_type": "display_data"
    },
    {
     "data": {
      "text/plain": [
       "NoneType"
      ]
     },
     "metadata": {},
     "output_type": "display_data"
    },
    {
     "ename": "ValueError",
     "evalue": "('Key ID must be given to access Alpaca trade API', ' (env: APCA_API_KEY_ID)')",
     "output_type": "error",
     "traceback": [
      "\u001b[0;31m---------------------------------------------------------------------------\u001b[0m",
      "\u001b[0;31mValueError\u001b[0m                                Traceback (most recent call last)",
      "Input \u001b[0;32mIn [3]\u001b[0m, in \u001b[0;36m<cell line: 11>\u001b[0;34m()\u001b[0m\n\u001b[1;32m      8\u001b[0m display(\u001b[38;5;28mtype\u001b[39m(alpaca_secret_key))\n\u001b[1;32m     10\u001b[0m \u001b[38;5;66;03m# Create the Alpaca tradeapi.REST object\u001b[39;00m\n\u001b[0;32m---> 11\u001b[0m alpaca \u001b[38;5;241m=\u001b[39m \u001b[43mtradeapi\u001b[49m\u001b[38;5;241;43m.\u001b[39;49m\u001b[43mREST\u001b[49m\u001b[43m(\u001b[49m\n\u001b[1;32m     12\u001b[0m \u001b[43m    \u001b[49m\u001b[43malpaca_api_key\u001b[49m\u001b[43m,\u001b[49m\n\u001b[1;32m     13\u001b[0m \u001b[43m    \u001b[49m\u001b[43malpaca_secret_key\u001b[49m\u001b[43m,\u001b[49m\n\u001b[1;32m     14\u001b[0m \u001b[43m    \u001b[49m\u001b[43mapi_version\u001b[49m\u001b[38;5;241;43m=\u001b[39;49m\u001b[38;5;124;43m'\u001b[39;49m\u001b[38;5;124;43mV2\u001b[39;49m\u001b[38;5;124;43m'\u001b[39;49m\u001b[43m)\u001b[49m\n",
      "File \u001b[0;32m~/opt/anaconda3/lib/python3.9/site-packages/alpaca_trade_api/rest.py:157\u001b[0m, in \u001b[0;36mREST.__init__\u001b[0;34m(self, key_id, secret_key, base_url, api_version, oauth, raw_data)\u001b[0m\n\u001b[1;32m    145\u001b[0m \u001b[38;5;28;01mdef\u001b[39;00m \u001b[38;5;21m__init__\u001b[39m(\u001b[38;5;28mself\u001b[39m,\n\u001b[1;32m    146\u001b[0m              key_id: \u001b[38;5;28mstr\u001b[39m \u001b[38;5;241m=\u001b[39m \u001b[38;5;28;01mNone\u001b[39;00m,\n\u001b[1;32m    147\u001b[0m              secret_key: \u001b[38;5;28mstr\u001b[39m \u001b[38;5;241m=\u001b[39m \u001b[38;5;28;01mNone\u001b[39;00m,\n\u001b[0;32m   (...)\u001b[0m\n\u001b[1;32m    151\u001b[0m              raw_data: \u001b[38;5;28mbool\u001b[39m \u001b[38;5;241m=\u001b[39m \u001b[38;5;28;01mFalse\u001b[39;00m\n\u001b[1;32m    152\u001b[0m              ):\n\u001b[1;32m    153\u001b[0m     \u001b[38;5;124;03m\"\"\"\u001b[39;00m\n\u001b[1;32m    154\u001b[0m \u001b[38;5;124;03m    :param raw_data: should we return api response raw or wrap it with\u001b[39;00m\n\u001b[1;32m    155\u001b[0m \u001b[38;5;124;03m                     Entity objects.\u001b[39;00m\n\u001b[1;32m    156\u001b[0m \u001b[38;5;124;03m    \"\"\"\u001b[39;00m\n\u001b[0;32m--> 157\u001b[0m     \u001b[38;5;28mself\u001b[39m\u001b[38;5;241m.\u001b[39m_key_id, \u001b[38;5;28mself\u001b[39m\u001b[38;5;241m.\u001b[39m_secret_key, \u001b[38;5;28mself\u001b[39m\u001b[38;5;241m.\u001b[39m_oauth \u001b[38;5;241m=\u001b[39m \u001b[43mget_credentials\u001b[49m\u001b[43m(\u001b[49m\n\u001b[1;32m    158\u001b[0m \u001b[43m        \u001b[49m\u001b[43mkey_id\u001b[49m\u001b[43m,\u001b[49m\u001b[43m \u001b[49m\u001b[43msecret_key\u001b[49m\u001b[43m,\u001b[49m\u001b[43m \u001b[49m\u001b[43moauth\u001b[49m\u001b[43m)\u001b[49m\n\u001b[1;32m    159\u001b[0m     \u001b[38;5;28mself\u001b[39m\u001b[38;5;241m.\u001b[39m_base_url: URL \u001b[38;5;241m=\u001b[39m URL(base_url \u001b[38;5;129;01mor\u001b[39;00m get_base_url())\n\u001b[1;32m    160\u001b[0m     \u001b[38;5;28mself\u001b[39m\u001b[38;5;241m.\u001b[39m_api_version \u001b[38;5;241m=\u001b[39m get_api_version(api_version)\n",
      "File \u001b[0;32m~/opt/anaconda3/lib/python3.9/site-packages/alpaca_trade_api/common.py:84\u001b[0m, in \u001b[0;36mget_credentials\u001b[0;34m(key_id, secret_key, oauth)\u001b[0m\n\u001b[1;32m     82\u001b[0m key_id \u001b[38;5;241m=\u001b[39m key_id \u001b[38;5;129;01mor\u001b[39;00m os\u001b[38;5;241m.\u001b[39menviron\u001b[38;5;241m.\u001b[39mget(\u001b[38;5;124m'\u001b[39m\u001b[38;5;124mAPCA_API_KEY_ID\u001b[39m\u001b[38;5;124m'\u001b[39m)\n\u001b[1;32m     83\u001b[0m \u001b[38;5;28;01mif\u001b[39;00m key_id \u001b[38;5;129;01mis\u001b[39;00m \u001b[38;5;28;01mNone\u001b[39;00m \u001b[38;5;129;01mand\u001b[39;00m oauth \u001b[38;5;129;01mis\u001b[39;00m \u001b[38;5;28;01mNone\u001b[39;00m:\n\u001b[0;32m---> 84\u001b[0m     \u001b[38;5;28;01mraise\u001b[39;00m \u001b[38;5;167;01mValueError\u001b[39;00m(\u001b[38;5;124m'\u001b[39m\u001b[38;5;124mKey ID must be given to access Alpaca trade API\u001b[39m\u001b[38;5;124m'\u001b[39m,\n\u001b[1;32m     85\u001b[0m                      \u001b[38;5;124m'\u001b[39m\u001b[38;5;124m (env: APCA_API_KEY_ID)\u001b[39m\u001b[38;5;124m'\u001b[39m)\n\u001b[1;32m     87\u001b[0m secret_key \u001b[38;5;241m=\u001b[39m secret_key \u001b[38;5;129;01mor\u001b[39;00m os\u001b[38;5;241m.\u001b[39menviron\u001b[38;5;241m.\u001b[39mget(\u001b[38;5;124m'\u001b[39m\u001b[38;5;124mAPCA_API_SECRET_KEY\u001b[39m\u001b[38;5;124m'\u001b[39m)\n\u001b[1;32m     88\u001b[0m \u001b[38;5;28;01mif\u001b[39;00m secret_key \u001b[38;5;129;01mis\u001b[39;00m \u001b[38;5;28;01mNone\u001b[39;00m \u001b[38;5;129;01mand\u001b[39;00m oauth \u001b[38;5;129;01mis\u001b[39;00m \u001b[38;5;28;01mNone\u001b[39;00m:\n",
      "\u001b[0;31mValueError\u001b[0m: ('Key ID must be given to access Alpaca trade API', ' (env: APCA_API_KEY_ID)')"
     ]
    }
   ],
   "source": [
    "#Alapca Setup\n",
    "\n",
    "# Set the variables for the Alpaca API and secret keys\n",
    "alpaca_api_key = os.getenv('APCA_API_KEY_ID')\n",
    "alpaca_secret_key = os.getenv('APCA_API_SECRET_KEY')\n",
    "\n",
    "display(type(alpaca_api_key))\n",
    "display(type(alpaca_secret_key))\n",
    "\n",
    "# Create the Alpaca tradeapi.REST object\n",
    "alpaca = tradeapi.REST(\n",
    "    alpaca_api_key,\n",
    "    alpaca_secret_key,\n",
    "    api_version='V2')"
   ]
  },
  {
   "cell_type": "code",
   "execution_count": null,
   "id": "d0b44d2f-1415-40ac-b0a9-ed9215e35bdd",
   "metadata": {},
   "outputs": [],
   "source": [
    "#Introduction Message\n",
    "\n",
    "print(\"Hello, welcome to Group 3's project where you can compare any stock including memestocks against other stocks, mutual funds, gold, etc..Press any Key to continue\")\n",
    "input(\"Press any key to continue...\")\n",
    "\n",
    "print(\"We will be using database from Alpaca database. We will go through x, y, z (plan) in this program. Press any key to continue\")\n",
    "input(\"Press any key to continue...\")\n",
    "\n",
    "print(\"First, let's start with picking a stock you would like to perform an analysis on\")\n",
    "input(\"Press any key to continue...\")"
   ]
  },
  {
   "cell_type": "code",
   "execution_count": null,
   "id": "454bae80-1c56-49dd-b805-45af0eb8947d",
   "metadata": {},
   "outputs": [],
   "source": [
    "# Picking a Stock\n",
    "# need to have this automatically converted to CAPS?\n",
    "ticker = questionary.text(\"Type the symbol of the stock you would like to analyze\").ask() \n",
    "return ticker\n",
    "\n",
    "# Add loop - Would you like to add another ticker?"
   ]
  },
  {
   "cell_type": "code",
   "execution_count": null,
   "id": "ffadca38-d5f3-4e6d-b183-f341743c9cc0",
   "metadata": {},
   "outputs": [],
   "source": [
    "if ticker in api.list_assets:\n",
    "        print(\"Great the stock is listed in the Alpaca database\")\n",
    "        input(\"Press any key to continue...\")      \n",
    "else:\n",
    "        print(\"The stock is not listed the database or typed in incorrectly. Please try again\")\n",
    "        input(\"Press any key to continue...\")   "
   ]
  },
  {
   "cell_type": "code",
   "execution_count": null,
   "id": "41065cd1-a1fb-49cb-8fd8-1a20435c2fc1",
   "metadata": {},
   "outputs": [],
   "source": []
  }
 ],
 "metadata": {
  "kernelspec": {
   "display_name": "Python 3 (ipykernel)",
   "language": "python",
   "name": "python3"
  },
  "language_info": {
   "codemirror_mode": {
    "name": "ipython",
    "version": 3
   },
   "file_extension": ".py",
   "mimetype": "text/x-python",
   "name": "python",
   "nbconvert_exporter": "python",
   "pygments_lexer": "ipython3",
   "version": "3.9.7"
  }
 },
 "nbformat": 4,
 "nbformat_minor": 5
}
